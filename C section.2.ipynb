{
 "cells": [
  {
   "cell_type": "code",
   "execution_count": 1,
   "metadata": {},
   "outputs": [],
   "source": [
    "import pandas as pd"
   ]
  },
  {
   "cell_type": "code",
   "execution_count": 2,
   "metadata": {},
   "outputs": [],
   "source": [
    "data=pd.read_csv('csv_result-caesarian.csv')"
   ]
  },
  {
   "cell_type": "code",
   "execution_count": 5,
   "metadata": {},
   "outputs": [
    {
     "data": {
      "text/html": [
       "<div>\n",
       "<style scoped>\n",
       "    .dataframe tbody tr th:only-of-type {\n",
       "        vertical-align: middle;\n",
       "    }\n",
       "\n",
       "    .dataframe tbody tr th {\n",
       "        vertical-align: top;\n",
       "    }\n",
       "\n",
       "    .dataframe thead th {\n",
       "        text-align: right;\n",
       "    }\n",
       "</style>\n",
       "<table border=\"1\" class=\"dataframe\">\n",
       "  <thead>\n",
       "    <tr style=\"text-align: right;\">\n",
       "      <th></th>\n",
       "      <th>id</th>\n",
       "      <th>'Age'</th>\n",
       "      <th>'Delivery</th>\n",
       "      <th>'Delivery.1</th>\n",
       "      <th>'Blood</th>\n",
       "      <th>'Heart</th>\n",
       "      <th>Caesarian</th>\n",
       "    </tr>\n",
       "  </thead>\n",
       "  <tbody>\n",
       "    <tr>\n",
       "      <th>0</th>\n",
       "      <td>1</td>\n",
       "      <td>22</td>\n",
       "      <td>1</td>\n",
       "      <td>0</td>\n",
       "      <td>2</td>\n",
       "      <td>0</td>\n",
       "      <td>0</td>\n",
       "    </tr>\n",
       "    <tr>\n",
       "      <th>1</th>\n",
       "      <td>2</td>\n",
       "      <td>26</td>\n",
       "      <td>2</td>\n",
       "      <td>0</td>\n",
       "      <td>1</td>\n",
       "      <td>0</td>\n",
       "      <td>1</td>\n",
       "    </tr>\n",
       "    <tr>\n",
       "      <th>2</th>\n",
       "      <td>3</td>\n",
       "      <td>26</td>\n",
       "      <td>2</td>\n",
       "      <td>1</td>\n",
       "      <td>1</td>\n",
       "      <td>0</td>\n",
       "      <td>0</td>\n",
       "    </tr>\n",
       "    <tr>\n",
       "      <th>3</th>\n",
       "      <td>4</td>\n",
       "      <td>28</td>\n",
       "      <td>1</td>\n",
       "      <td>0</td>\n",
       "      <td>2</td>\n",
       "      <td>0</td>\n",
       "      <td>0</td>\n",
       "    </tr>\n",
       "    <tr>\n",
       "      <th>4</th>\n",
       "      <td>5</td>\n",
       "      <td>22</td>\n",
       "      <td>2</td>\n",
       "      <td>0</td>\n",
       "      <td>1</td>\n",
       "      <td>0</td>\n",
       "      <td>1</td>\n",
       "    </tr>\n",
       "  </tbody>\n",
       "</table>\n",
       "</div>"
      ],
      "text/plain": [
       "   id  'Age'  'Delivery  'Delivery.1  'Blood  'Heart  Caesarian\n",
       "0   1     22          1            0       2       0          0\n",
       "1   2     26          2            0       1       0          1\n",
       "2   3     26          2            1       1       0          0\n",
       "3   4     28          1            0       2       0          0\n",
       "4   5     22          2            0       1       0          1"
      ]
     },
     "execution_count": 5,
     "metadata": {},
     "output_type": "execute_result"
    }
   ],
   "source": [
    "data.head()"
   ]
  },
  {
   "cell_type": "code",
   "execution_count": 6,
   "metadata": {},
   "outputs": [],
   "source": [
    "X = data.iloc[:,1:-1]\n",
    "X=X.values\n",
    "Y=data.iloc[:,-1].values"
   ]
  },
  {
   "cell_type": "code",
   "execution_count": 7,
   "metadata": {},
   "outputs": [
    {
     "name": "stdout",
     "output_type": "stream",
     "text": [
      "[[22  1  0  2  0]\n",
      " [26  2  0  1  0]\n",
      " [26  2  1  1  0]\n",
      " [28  1  0  2  0]\n",
      " [22  2  0  1  0]\n",
      " [26  1  1  0  0]\n",
      " [27  2  0  1  0]\n",
      " [32  3  0  1  0]\n",
      " [28  2  0  1  0]\n",
      " [27  1  1  1  0]\n",
      " [36  1  0  1  0]\n",
      " [33  1  1  0  0]\n",
      " [23  1  1  1  0]\n",
      " [20  1  0  1  1]\n",
      " [29  1  2  0  1]\n",
      " [25  1  2  0  0]\n",
      " [25  1  0  1  0]\n",
      " [20  1  2  2  0]\n",
      " [37  3  0  1  1]\n",
      " [24  1  2  0  1]\n",
      " [26  1  1  1  0]\n",
      " [33  2  0  0  1]\n",
      " [25  1  1  2  0]\n",
      " [27  1  0  0  1]\n",
      " [20  1  0  2  1]\n",
      " [18  1  0  1  0]\n",
      " [18  1  1  2  1]\n",
      " [30  1  0  1  0]\n",
      " [32  1  0  2  1]\n",
      " [26  2  1  1  1]\n",
      " [25  1  0  0  0]\n",
      " [40  1  0  1  1]\n",
      " [32  2  0  2  1]\n",
      " [27  2  0  1  1]\n",
      " [26  2  2  1  0]\n",
      " [28  3  0  2  0]\n",
      " [33  1  1  1  0]\n",
      " [31  2  2  1  0]\n",
      " [31  1  0  1  0]\n",
      " [26  1  2  0  1]\n",
      " [27  1  0  2  1]\n",
      " [19  1  0  1  0]\n",
      " [36  1  1  2  0]\n",
      " [22  1  0  1  0]\n",
      " [36  4  0  2  1]\n",
      " [28  3  0  1  1]\n",
      " [26  1  0  1  0]\n",
      " [32  2  0  2  1]\n",
      " [26  2  2  1  0]\n",
      " [29  2  0  0  1]\n",
      " [33  3  2  1  1]\n",
      " [21  2  1  0  1]\n",
      " [30  3  2  2  0]\n",
      " [35  1  1  0  0]\n",
      " [29  2  0  1  1]\n",
      " [25  2  0  1  0]\n",
      " [32  3  1  0  1]\n",
      " [21  1  0  0  0]\n",
      " [26  1  0  2  0]\n",
      " [30  2  1  2  1]\n",
      " [22  1  2  2  0]\n",
      " [19  1  0  1  0]\n",
      " [32  2  0  0  0]\n",
      " [32  2  0  1  1]\n",
      " [31  1  2  2  1]\n",
      " [35  2  0  1  0]\n",
      " [28  3  0  1  0]\n",
      " [29  2  0  1  1]\n",
      " [25  1  0  0  0]\n",
      " [27  2  2  0  0]\n",
      " [17  1  0  0  0]\n",
      " [29  1  2  0  1]\n",
      " [28  2  0  1  0]\n",
      " [32  3  0  1  1]\n",
      " [38  3  2  2  1]\n",
      " [27  2  1  1  0]\n",
      " [33  4  0  1  0]\n",
      " [29  2  1  2  0]\n",
      " [25  1  2  0  0]\n",
      " [24  2  2  1  0]]\n"
     ]
    }
   ],
   "source": [
    "print(X)"
   ]
  },
  {
   "cell_type": "code",
   "execution_count": 8,
   "metadata": {},
   "outputs": [
    {
     "name": "stdout",
     "output_type": "stream",
     "text": [
      "[0 1 0 0 1 0 0 1 0 1 0 1 0 0 1 0 0 1 1 1 0 1 0 1 1 0 1 0 1 0 0 1 1 1 1 1 0\n",
      " 0 0 1 1 1 1 1 1 1 0 1 0 1 0 1 0 0 1 0 1 1 1 1 0 1 1 1 0 1 1 0 1 0 1 1 0 0\n",
      " 1 0 1 1 1 0]\n"
     ]
    }
   ],
   "source": [
    "print (Y)"
   ]
  },
  {
   "cell_type": "code",
   "execution_count": 9,
   "metadata": {},
   "outputs": [],
   "source": [
    "from sklearn import preprocessing\n",
    "X1=preprocessing.normalize(X)"
   ]
  },
  {
   "cell_type": "code",
   "execution_count": 10,
   "metadata": {},
   "outputs": [
    {
     "name": "stdout",
     "output_type": "stream",
     "text": [
      "[[0.99487439 0.04522156 0.         0.09044313 0.        ]\n",
      " [0.99632216 0.07664017 0.         0.03832008 0.        ]\n",
      " [0.99559146 0.07658396 0.03829198 0.03829198 0.        ]\n",
      " [0.9968264  0.03560094 0.         0.07120189 0.        ]\n",
      " [0.99487439 0.09044313 0.         0.04522156 0.        ]\n",
      " [0.99852398 0.03840477 0.03840477 0.         0.        ]\n",
      " [0.99658819 0.07382135 0.         0.03691067 0.        ]\n",
      " [0.99515266 0.09329556 0.         0.03109852 0.        ]\n",
      " [0.9968264  0.07120189 0.         0.03560094 0.        ]\n",
      " [0.99794872 0.03696106 0.03696106 0.03696106 0.        ]\n",
      " [0.99922929 0.02775637 0.         0.02775637 0.        ]\n",
      " [0.99908299 0.03027524 0.03027524 0.         0.        ]\n",
      " [0.99717646 0.0433555  0.0433555  0.0433555  0.        ]\n",
      " [0.99627096 0.04981355 0.         0.04981355 0.04981355]\n",
      " [0.99645179 0.03436041 0.06872081 0.         0.03436041]\n",
      " [0.99602384 0.03984095 0.07968191 0.         0.        ]\n",
      " [0.99840383 0.03993615 0.         0.03993615 0.        ]\n",
      " [0.98893635 0.04944682 0.09889364 0.09889364 0.        ]\n",
      " [0.99600652 0.08075729 0.         0.0269191  0.0269191 ]\n",
      " [0.99483201 0.04145133 0.08290267 0.         0.04145133]\n",
      " [0.99778842 0.03837648 0.03837648 0.03837648 0.        ]\n",
      " [0.99771219 0.06046741 0.         0.         0.0302337 ]\n",
      " [0.99523429 0.03980937 0.03980937 0.07961874 0.        ]\n",
      " [0.99863107 0.03698634 0.         0.         0.03698634]\n",
      " [0.99258333 0.04962917 0.         0.09925833 0.04962917]\n",
      " [0.9969278  0.05538488 0.         0.05538488 0.        ]\n",
      " [0.98936948 0.05496497 0.05496497 0.10992994 0.05496497]\n",
      " [0.99889074 0.03329636 0.         0.03329636 0.        ]\n",
      " [0.99708312 0.03115885 0.         0.0623177  0.03115885]\n",
      " [0.99486235 0.07652787 0.03826394 0.03826394 0.03826394]\n",
      " [0.99920096 0.03996804 0.         0.         0.        ]\n",
      " [0.99906382 0.0249766  0.         0.0249766  0.0249766 ]\n",
      " [0.99563423 0.06222714 0.         0.06222714 0.03111357]\n",
      " [0.99591    0.07377111 0.         0.03688556 0.03688556]\n",
      " [0.99340894 0.07641607 0.07641607 0.03820804 0.        ]\n",
      " [0.99181089 0.10626545 0.         0.07084363 0.        ]\n",
      " [0.99862543 0.03026138 0.03026138 0.03026138 0.        ]\n",
      " [0.99535001 0.06421613 0.06421613 0.03210806 0.        ]\n",
      " [0.99896104 0.03222455 0.         0.03222455 0.        ]\n",
      " [0.99559146 0.03829198 0.07658396 0.         0.03829198]\n",
      " [0.99591    0.03688556 0.         0.07377111 0.03688556]\n",
      " [0.99724137 0.05248639 0.         0.05248639 0.        ]\n",
      " [0.99769319 0.0277137  0.0277137  0.0554274  0.        ]\n",
      " [0.99794027 0.04536092 0.         0.04536092 0.        ]\n",
      " [0.9919953  0.1102217  0.         0.05511085 0.02755542]\n",
      " [0.99305766 0.10639904 0.         0.03546635 0.03546635]\n",
      " [0.99852398 0.03840477 0.         0.03840477 0.        ]\n",
      " [0.99563423 0.06222714 0.         0.06222714 0.03111357]\n",
      " [0.99340894 0.07641607 0.07641607 0.03820804 0.        ]\n",
      " [0.99704054 0.06876142 0.         0.         0.03438071]\n",
      " [0.99318329 0.09028939 0.06019293 0.03009646 0.03009646]\n",
      " [0.99326592 0.09459675 0.04729838 0.         0.04729838]\n",
      " [0.99068728 0.09906873 0.06604582 0.06604582 0.        ]\n",
      " [0.99918467 0.02854813 0.02854813 0.         0.        ]\n",
      " [0.99645179 0.06872081 0.         0.03436041 0.03436041]\n",
      " [0.99602384 0.07968191 0.         0.03984095 0.        ]\n",
      " [0.9946718  0.09325048 0.03108349 0.         0.03108349]\n",
      " [0.99886814 0.04756515 0.         0.         0.        ]\n",
      " [0.99632216 0.03832008 0.         0.07664017 0.        ]\n",
      " [0.99449032 0.06629935 0.03314968 0.06629935 0.03314968]\n",
      " [0.99083017 0.04503773 0.09007547 0.09007547 0.        ]\n",
      " [0.99724137 0.05248639 0.         0.05248639 0.        ]\n",
      " [0.99805258 0.06237829 0.         0.         0.        ]\n",
      " [0.99708312 0.0623177  0.         0.03115885 0.03115885]\n",
      " [0.99483734 0.03209153 0.06418305 0.06418305 0.03209153]\n",
      " [0.99796541 0.05702659 0.         0.0285133  0.        ]\n",
      " [0.99368282 0.10646602 0.         0.03548867 0.        ]\n",
      " [0.99645179 0.06872081 0.         0.03436041 0.03436041]\n",
      " [0.99920096 0.03996804 0.         0.         0.        ]\n",
      " [0.99455778 0.07367095 0.07367095 0.         0.        ]\n",
      " [0.99827437 0.05872202 0.         0.         0.        ]\n",
      " [0.99645179 0.03436041 0.06872081 0.         0.03436041]\n",
      " [0.9968264  0.07120189 0.         0.03560094 0.        ]\n",
      " [0.9946718  0.09325048 0.         0.03108349 0.03108349]\n",
      " [0.99382498 0.07845987 0.05230658 0.05230658 0.02615329]\n",
      " [0.99591    0.07377111 0.03688556 0.03688556 0.        ]\n",
      " [0.99228489 0.12027696 0.         0.03006924 0.        ]\n",
      " [0.99469179 0.06859943 0.03429972 0.06859943 0.        ]\n",
      " [0.99602384 0.03984095 0.07968191 0.         0.        ]\n",
      " [0.99227788 0.08268982 0.08268982 0.04134491 0.        ]]\n"
     ]
    }
   ],
   "source": [
    "print(X1)"
   ]
  },
  {
   "cell_type": "code",
   "execution_count": 11,
   "metadata": {},
   "outputs": [],
   "source": [
    "from sklearn.model_selection import train_test_split\n",
    "X_train,X_test,Y_train,Y_test =train_test_split(X1,Y,test_size=0.25,random_state=42)"
   ]
  },
  {
   "cell_type": "code",
   "execution_count": 12,
   "metadata": {},
   "outputs": [
    {
     "name": "stdout",
     "output_type": "stream",
     "text": [
      "(60, 5) (60,) (20, 5) (20,)\n"
     ]
    }
   ],
   "source": [
    "print(X_train.shape,Y_train.shape,X_test.shape,Y_test.shape)"
   ]
  },
  {
   "cell_type": "code",
   "execution_count": 13,
   "metadata": {},
   "outputs": [
    {
     "data": {
      "text/plain": [
       "60.0"
      ]
     },
     "execution_count": 13,
     "metadata": {},
     "output_type": "execute_result"
    }
   ],
   "source": [
    "#perceptron\n",
    "from sklearn.linear_model import Perceptron\n",
    "per =Perceptron(tol=1e-3,random_state=0)\n",
    "per.fit(X_train,Y_train)\n",
    "y_pred=per.predict(X_test)\n",
    "from sklearn import metrics\n",
    "metrics.accuracy_score(Y_test,y_pred)*100"
   ]
  },
  {
   "cell_type": "code",
   "execution_count": 14,
   "metadata": {},
   "outputs": [
    {
     "data": {
      "text/plain": [
       "60.0"
      ]
     },
     "execution_count": 14,
     "metadata": {},
     "output_type": "execute_result"
    }
   ],
   "source": [
    "#SVM\n",
    "from sklearn import svm\n",
    "sm=svm.SVC(gamma='scale',decision_function_shape='ovo')\n",
    "sm.fit(X_train,Y_train)\n",
    "y_pred = sm.predict(X_test)\n",
    "from sklearn import metrics\n",
    "metrics.accuracy_score(Y_test,y_pred)*100"
   ]
  },
  {
   "cell_type": "code",
   "execution_count": 16,
   "metadata": {},
   "outputs": [
    {
     "data": {
      "text/plain": [
       "60.0"
      ]
     },
     "execution_count": 16,
     "metadata": {},
     "output_type": "execute_result"
    }
   ],
   "source": [
    "#neural networks\n",
    "from sklearn.neural_network import MLPClassifier\n",
    "mlp=MLPClassifier(hidden_layer_sizes=(8,8,8),alpha=1e-5,solver='adam',max_iter=500)\n",
    "mlp.fit(X_train,Y_train)\n",
    "y_pred=mlp.predict(X_test)\n",
    "from sklearn import metrics\n",
    "metrics.accuracy_score(Y_test,y_pred)*100"
   ]
  },
  {
   "cell_type": "code",
   "execution_count": null,
   "metadata": {},
   "outputs": [],
   "source": [
    "#KNN\n",
    "from sklearn.neighbors import KNeighborsClassifier\n",
    "neigh=KNeighborsClassifier(n_neighbors=3)\n",
    "neigh.fit(X_train,Y_train)\n",
    "y_pred=neigh.predict(X_test)\n",
    "from sklearn import "
   ]
  }
 ],
 "metadata": {
  "kernelspec": {
   "display_name": "Python 3",
   "language": "python",
   "name": "python3"
  },
  "language_info": {
   "codemirror_mode": {
    "name": "ipython",
    "version": 3
   },
   "file_extension": ".py",
   "mimetype": "text/x-python",
   "name": "python",
   "nbconvert_exporter": "python",
   "pygments_lexer": "ipython3",
   "version": "3.8.3"
  }
 },
 "nbformat": 4,
 "nbformat_minor": 4
}
